{
 "cells": [
  {
   "cell_type": "code",
   "execution_count": null,
   "id": "4215e5a3",
   "metadata": {},
   "outputs": [],
   "source": [
    "import pandas as pd  \n",
    "import numpy as np  \n",
    "import matplotlib.pyplot as plt  \n",
    "import seaborn as seabornInstance \n",
    "from sklearn.model_selection import train_test_split \n",
    "from sklearn.linear_model import LinearRegression\n",
    "from sklearn import metrics\n",
    "%matplotlib inline"
   ]
  },
  {
   "cell_type": "code",
   "execution_count": null,
   "id": "090187d7",
   "metadata": {},
   "outputs": [],
   "source": [
    "dataset = pd.read_csv('..\\\\data\\\\cia_factbook.csv', sep=';', header=0)\n",
    "dataset = dataset.drop([0])\n",
    "dataset = dataset.dropna(subset=['GDP - per capita', 'Unemployment rate(%)'], how='any')\n",
    "dataset.describe()\n",
    "dataset.shape\n",
    "dataset.head(5)\n",
    "dataset['GDP - per capita'] = dataset['GDP - per capita'].astype(float)\n",
    "dataset['Unemployment rate(%)'] = dataset['Unemployment rate(%)'].astype(float)\n",
    "x = dataset['GDP - per capita']\n",
    "y = dataset['Unemployment rate(%)']\n",
    "print(x)\n",
    "print(y)\n",
    "    "
   ]
  },
  {
   "cell_type": "code",
   "execution_count": null,
   "id": "b19b854b",
   "metadata": {},
   "outputs": [],
   "source": [
    "fig, ax = plt.subplots()\n",
    "ax.set_xlabel(\"GDP - per capita\")\n",
    "ax.set_ylabel(\"Unemployment rate(%)\")\n",
    "ax.scatter(x, y, color='blue')\n",
    "\n",
    "plt.show()"
   ]
  },
  {
   "cell_type": "code",
   "execution_count": null,
   "id": "bfc9a764",
   "metadata": {},
   "outputs": [],
   "source": [
    "x = dataset['GDP - per capita'].values.reshape(-1,1)\n",
    "y = dataset['Unemployment rate(%)'].values.reshape(-1,1)\n",
    "X_train, X_test, y_train, y_test = train_test_split(x, y, test_size=0.2, random_state=0)\n",
    "regressor = LinearRegression()  \n",
    "regressor.fit(X_train, y_train) #training the algorithm\n"
   ]
  },
  {
   "cell_type": "code",
   "execution_count": null,
   "id": "6473e698",
   "metadata": {},
   "outputs": [],
   "source": [
    "y_pred = regressor.predict(X_test)"
   ]
  },
  {
   "cell_type": "code",
   "execution_count": null,
   "id": "076ba5fe",
   "metadata": {},
   "outputs": [],
   "source": [
    "df = pd.DataFrame({'Actual': y_test.flatten(), 'Predicted': y_pred.flatten()})\n",
    "df"
   ]
  },
  {
   "cell_type": "code",
   "execution_count": null,
   "id": "9619f696",
   "metadata": {},
   "outputs": [],
   "source": [
    "plt.scatter(X_test, y_test,  color='gray')\n",
    "plt.plot(X_test, y_pred, color='red', linewidth=2)\n",
    "plt.show()"
   ]
  },
  {
   "cell_type": "code",
   "execution_count": null,
   "id": "b1411343",
   "metadata": {},
   "outputs": [],
   "source": []
  }
 ],
 "metadata": {
  "kernelspec": {
   "display_name": "Python 3",
   "language": "python",
   "name": "python3"
  },
  "language_info": {
   "codemirror_mode": {
    "name": "ipython",
    "version": 3
   },
   "file_extension": ".py",
   "mimetype": "text/x-python",
   "name": "python",
   "nbconvert_exporter": "python",
   "pygments_lexer": "ipython3",
   "version": "3.8.8"
  }
 },
 "nbformat": 4,
 "nbformat_minor": 5
}
