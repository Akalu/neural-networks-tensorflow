{
 "cells": [
  {
   "cell_type": "code",
   "execution_count": 1,
   "id": "ba26865e",
   "metadata": {},
   "outputs": [],
   "source": [
    "import pandas as pd\n",
    "import numpy as np"
   ]
  },
  {
   "cell_type": "code",
   "execution_count": 2,
   "id": "6a847ca0",
   "metadata": {},
   "outputs": [
    {
     "data": {
      "text/plain": [
       "0    1.0\n",
       "1    2.0\n",
       "2    3.0\n",
       "dtype: float64"
      ]
     },
     "execution_count": 2,
     "metadata": {},
     "output_type": "execute_result"
    }
   ],
   "source": [
    "pd.Series([1., 2., 3.])\n",
    "\n"
   ]
  },
  {
   "cell_type": "code",
   "execution_count": 3,
   "id": "35b1ef24",
   "metadata": {},
   "outputs": [
    {
     "data": {
      "text/plain": [
       "0    1.0\n",
       "1    2.0\n",
       "2    NaN\n",
       "dtype: float64"
      ]
     },
     "execution_count": 3,
     "metadata": {},
     "output_type": "execute_result"
    }
   ],
   "source": [
    "pd.Series([1,2,np.nan])"
   ]
  },
  {
   "cell_type": "code",
   "execution_count": 4,
   "id": "5d9641f7",
   "metadata": {},
   "outputs": [
    {
     "name": "stdout",
     "output_type": "stream",
     "text": [
      "Data Frame:\n",
      "    0  1\n",
      "0  1  2\n",
      "1  3  4\n",
      "Data Frame:\n",
      "     Name  Age\n",
      "0  Alice   30\n",
      "1    Bob   40\n"
     ]
    }
   ],
   "source": [
    "## Numpy to pandas\n",
    "h = [[1,2],[3,4]]\n",
    "df_h = pd.DataFrame(h)\n",
    "print('Data Frame:\\n', df_h)\n",
    "dict = {'Name': [\"Alice\", \"Bob\"], 'Age': [30, 40]}\n",
    "df_dict = pd.DataFrame(data=dict)\n",
    "print('Data Frame:\\n', df_dict)"
   ]
  },
  {
   "cell_type": "code",
   "execution_count": 5,
   "id": "503bfe4b",
   "metadata": {},
   "outputs": [
    {
     "name": "stdout",
     "output_type": "stream",
     "text": [
      "Generating 6 dates: DatetimeIndex(['2020-01-01', '2020-01-02', '2020-01-03', '2020-01-04',\n",
      "               '2020-01-05', '2020-01-06'],\n",
      "              dtype='datetime64[ns]', freq='D')\n"
     ]
    }
   ],
   "source": [
    "## Create date\n",
    "# Days\n",
    "dates_d = pd.date_range('20200101', periods=6, freq='D')\n",
    "print('Generating 6 dates:', dates_d)\n"
   ]
  },
  {
   "cell_type": "code",
   "execution_count": 6,
   "id": "a18f7d44",
   "metadata": {},
   "outputs": [
    {
     "data": {
      "text/html": [
       "<div>\n",
       "<style scoped>\n",
       "    .dataframe tbody tr th:only-of-type {\n",
       "        vertical-align: middle;\n",
       "    }\n",
       "\n",
       "    .dataframe tbody tr th {\n",
       "        vertical-align: top;\n",
       "    }\n",
       "\n",
       "    .dataframe thead th {\n",
       "        text-align: right;\n",
       "    }\n",
       "</style>\n",
       "<table border=\"1\" class=\"dataframe\">\n",
       "  <thead>\n",
       "    <tr style=\"text-align: right;\">\n",
       "      <th></th>\n",
       "      <th>A</th>\n",
       "      <th>B</th>\n",
       "      <th>C</th>\n",
       "      <th>D</th>\n",
       "    </tr>\n",
       "  </thead>\n",
       "  <tbody>\n",
       "    <tr>\n",
       "      <th>2020-01-01</th>\n",
       "      <td>-0.213744</td>\n",
       "      <td>1.524269</td>\n",
       "      <td>0.663925</td>\n",
       "      <td>0.329323</td>\n",
       "    </tr>\n",
       "    <tr>\n",
       "      <th>2020-01-02</th>\n",
       "      <td>-0.290518</td>\n",
       "      <td>-1.895138</td>\n",
       "      <td>0.867257</td>\n",
       "      <td>-0.718535</td>\n",
       "    </tr>\n",
       "    <tr>\n",
       "      <th>2020-01-03</th>\n",
       "      <td>-0.279795</td>\n",
       "      <td>-1.052890</td>\n",
       "      <td>0.314980</td>\n",
       "      <td>-1.009830</td>\n",
       "    </tr>\n",
       "  </tbody>\n",
       "</table>\n",
       "</div>"
      ],
      "text/plain": [
       "                   A         B         C         D\n",
       "2020-01-01 -0.213744  1.524269  0.663925  0.329323\n",
       "2020-01-02 -0.290518 -1.895138  0.867257 -0.718535\n",
       "2020-01-03 -0.279795 -1.052890  0.314980 -1.009830"
      ]
     },
     "execution_count": 6,
     "metadata": {},
     "output_type": "execute_result"
    }
   ],
   "source": [
    "random = np.random.randn(6,4)\n",
    "# Create data with date\n",
    "df = pd.DataFrame(random,\n",
    "index=dates_d,\n",
    "columns=list('ABCD'))\n",
    "df.head(3)"
   ]
  },
  {
   "cell_type": "code",
   "execution_count": 7,
   "id": "d66ae127",
   "metadata": {},
   "outputs": [
    {
     "data": {
      "text/html": [
       "<div>\n",
       "<style scoped>\n",
       "    .dataframe tbody tr th:only-of-type {\n",
       "        vertical-align: middle;\n",
       "    }\n",
       "\n",
       "    .dataframe tbody tr th {\n",
       "        vertical-align: top;\n",
       "    }\n",
       "\n",
       "    .dataframe thead th {\n",
       "        text-align: right;\n",
       "    }\n",
       "</style>\n",
       "<table border=\"1\" class=\"dataframe\">\n",
       "  <thead>\n",
       "    <tr style=\"text-align: right;\">\n",
       "      <th></th>\n",
       "      <th>A</th>\n",
       "      <th>B</th>\n",
       "      <th>C</th>\n",
       "      <th>D</th>\n",
       "    </tr>\n",
       "  </thead>\n",
       "  <tbody>\n",
       "    <tr>\n",
       "      <th>count</th>\n",
       "      <td>6.000000</td>\n",
       "      <td>6.000000</td>\n",
       "      <td>6.000000</td>\n",
       "      <td>6.000000</td>\n",
       "    </tr>\n",
       "    <tr>\n",
       "      <th>mean</th>\n",
       "      <td>0.170539</td>\n",
       "      <td>0.096681</td>\n",
       "      <td>0.587196</td>\n",
       "      <td>-0.566988</td>\n",
       "    </tr>\n",
       "    <tr>\n",
       "      <th>std</th>\n",
       "      <td>0.513405</td>\n",
       "      <td>1.333536</td>\n",
       "      <td>0.198754</td>\n",
       "      <td>0.604296</td>\n",
       "    </tr>\n",
       "    <tr>\n",
       "      <th>min</th>\n",
       "      <td>-0.290518</td>\n",
       "      <td>-1.895138</td>\n",
       "      <td>0.314980</td>\n",
       "      <td>-1.256970</td>\n",
       "    </tr>\n",
       "    <tr>\n",
       "      <th>25%</th>\n",
       "      <td>-0.263283</td>\n",
       "      <td>-0.770600</td>\n",
       "      <td>0.473567</td>\n",
       "      <td>-0.939363</td>\n",
       "    </tr>\n",
       "    <tr>\n",
       "      <th>50%</th>\n",
       "      <td>0.013987</td>\n",
       "      <td>0.433021</td>\n",
       "      <td>0.580341</td>\n",
       "      <td>-0.723248</td>\n",
       "    </tr>\n",
       "    <tr>\n",
       "      <th>75%</th>\n",
       "      <td>0.641801</td>\n",
       "      <td>1.050795</td>\n",
       "      <td>0.701798</td>\n",
       "      <td>-0.193101</td>\n",
       "    </tr>\n",
       "    <tr>\n",
       "      <th>max</th>\n",
       "      <td>0.790409</td>\n",
       "      <td>1.524269</td>\n",
       "      <td>0.867257</td>\n",
       "      <td>0.329323</td>\n",
       "    </tr>\n",
       "  </tbody>\n",
       "</table>\n",
       "</div>"
      ],
      "text/plain": [
       "              A         B         C         D\n",
       "count  6.000000  6.000000  6.000000  6.000000\n",
       "mean   0.170539  0.096681  0.587196 -0.566988\n",
       "std    0.513405  1.333536  0.198754  0.604296\n",
       "min   -0.290518 -1.895138  0.314980 -1.256970\n",
       "25%   -0.263283 -0.770600  0.473567 -0.939363\n",
       "50%    0.013987  0.433021  0.580341 -0.723248\n",
       "75%    0.641801  1.050795  0.701798 -0.193101\n",
       "max    0.790409  1.524269  0.867257  0.329323"
      ]
     },
     "execution_count": 7,
     "metadata": {},
     "output_type": "execute_result"
    }
   ],
   "source": [
    "df.describe()\n"
   ]
  },
  {
   "cell_type": "code",
   "execution_count": 8,
   "id": "0b8ce0b2",
   "metadata": {},
   "outputs": [
    {
     "data": {
      "text/html": [
       "<div>\n",
       "<style scoped>\n",
       "    .dataframe tbody tr th:only-of-type {\n",
       "        vertical-align: middle;\n",
       "    }\n",
       "\n",
       "    .dataframe tbody tr th {\n",
       "        vertical-align: top;\n",
       "    }\n",
       "\n",
       "    .dataframe thead th {\n",
       "        text-align: right;\n",
       "    }\n",
       "</style>\n",
       "<table border=\"1\" class=\"dataframe\">\n",
       "  <thead>\n",
       "    <tr style=\"text-align: right;\">\n",
       "      <th></th>\n",
       "      <th>name</th>\n",
       "      <th>Age</th>\n",
       "    </tr>\n",
       "  </thead>\n",
       "  <tbody>\n",
       "    <tr>\n",
       "      <th>0</th>\n",
       "      <td>John</td>\n",
       "      <td>25</td>\n",
       "    </tr>\n",
       "    <tr>\n",
       "      <th>1</th>\n",
       "      <td>Smith</td>\n",
       "      <td>30</td>\n",
       "    </tr>\n",
       "    <tr>\n",
       "      <th>2</th>\n",
       "      <td>Paul</td>\n",
       "      <td>50</td>\n",
       "    </tr>\n",
       "    <tr>\n",
       "      <th>3</th>\n",
       "      <td>Adam</td>\n",
       "      <td>26</td>\n",
       "    </tr>\n",
       "    <tr>\n",
       "      <th>4</th>\n",
       "      <td>Smith</td>\n",
       "      <td>11</td>\n",
       "    </tr>\n",
       "  </tbody>\n",
       "</table>\n",
       "</div>"
      ],
      "text/plain": [
       "    name Age\n",
       "0   John  25\n",
       "1  Smith  30\n",
       "2   Paul  50\n",
       "3   Adam  26\n",
       "4  Smith  11"
      ]
     },
     "execution_count": 8,
     "metadata": {},
     "output_type": "execute_result"
    }
   ],
   "source": [
    "df1 = pd.DataFrame({'name': ['John', 'Smith','Paul'], 'Age': ['25', '30', '50']}, index=[0, 1, 2])\n",
    "df2 = pd.DataFrame({'name': ['Adam', 'Smith' ], 'Age': ['26', '11']}, index=[3, 4])\n",
    "df_concat = pd.concat([df1,df2])\n",
    "df_concat\n"
   ]
  },
  {
   "cell_type": "code",
   "execution_count": 9,
   "id": "ed8fa37d",
   "metadata": {},
   "outputs": [
    {
     "data": {
      "text/html": [
       "<div>\n",
       "<style scoped>\n",
       "    .dataframe tbody tr th:only-of-type {\n",
       "        vertical-align: middle;\n",
       "    }\n",
       "\n",
       "    .dataframe tbody tr th {\n",
       "        vertical-align: top;\n",
       "    }\n",
       "\n",
       "    .dataframe thead th {\n",
       "        text-align: right;\n",
       "    }\n",
       "</style>\n",
       "<table border=\"1\" class=\"dataframe\">\n",
       "  <thead>\n",
       "    <tr style=\"text-align: right;\">\n",
       "      <th></th>\n",
       "      <th>name</th>\n",
       "      <th>Age</th>\n",
       "    </tr>\n",
       "  </thead>\n",
       "  <tbody>\n",
       "    <tr>\n",
       "      <th>4</th>\n",
       "      <td>Smith</td>\n",
       "      <td>11</td>\n",
       "    </tr>\n",
       "    <tr>\n",
       "      <th>0</th>\n",
       "      <td>John</td>\n",
       "      <td>25</td>\n",
       "    </tr>\n",
       "    <tr>\n",
       "      <th>3</th>\n",
       "      <td>Adam</td>\n",
       "      <td>26</td>\n",
       "    </tr>\n",
       "    <tr>\n",
       "      <th>1</th>\n",
       "      <td>Smith</td>\n",
       "      <td>30</td>\n",
       "    </tr>\n",
       "    <tr>\n",
       "      <th>2</th>\n",
       "      <td>Paul</td>\n",
       "      <td>50</td>\n",
       "    </tr>\n",
       "  </tbody>\n",
       "</table>\n",
       "</div>"
      ],
      "text/plain": [
       "    name Age\n",
       "4  Smith  11\n",
       "0   John  25\n",
       "3   Adam  26\n",
       "1  Smith  30\n",
       "2   Paul  50"
      ]
     },
     "execution_count": 9,
     "metadata": {},
     "output_type": "execute_result"
    }
   ],
   "source": [
    "df_concat.sort_values('Age')"
   ]
  },
  {
   "cell_type": "code",
   "execution_count": 10,
   "id": "c06a8eac",
   "metadata": {},
   "outputs": [
    {
     "data": {
      "text/plain": [
       "(32561, 15)"
      ]
     },
     "execution_count": 10,
     "metadata": {},
     "output_type": "execute_result"
    }
   ],
   "source": [
    "## Define path data\n",
    "COLUMNS = ['age','workclass', 'fnlwgt', 'education', 'education_num', 'marital', 'occupation', \n",
    "           'relationship', 'race', 'sex', 'capital_gain', 'capital_loss', \n",
    "           'hours_week', 'native_country', 'label']\n",
    "# path must be specified relatively notebook \n",
    "PATH = \"../data/adult.data\"\n",
    "df_train = pd.read_csv(PATH, skipinitialspace=True, names = COLUMNS, index_col=False)\n",
    "df_train.shape"
   ]
  },
  {
   "cell_type": "code",
   "execution_count": 11,
   "id": "50d77b80",
   "metadata": {},
   "outputs": [
    {
     "data": {
      "text/html": [
       "<div>\n",
       "<style scoped>\n",
       "    .dataframe tbody tr th:only-of-type {\n",
       "        vertical-align: middle;\n",
       "    }\n",
       "\n",
       "    .dataframe tbody tr th {\n",
       "        vertical-align: top;\n",
       "    }\n",
       "\n",
       "    .dataframe thead th {\n",
       "        text-align: right;\n",
       "    }\n",
       "</style>\n",
       "<table border=\"1\" class=\"dataframe\">\n",
       "  <thead>\n",
       "    <tr style=\"text-align: right;\">\n",
       "      <th></th>\n",
       "      <th>age</th>\n",
       "      <th>fnlwgt</th>\n",
       "      <th>education_num</th>\n",
       "      <th>capital_gain</th>\n",
       "      <th>capital_loss</th>\n",
       "      <th>hours_week</th>\n",
       "    </tr>\n",
       "    <tr>\n",
       "      <th>label</th>\n",
       "      <th></th>\n",
       "      <th></th>\n",
       "      <th></th>\n",
       "      <th></th>\n",
       "      <th></th>\n",
       "      <th></th>\n",
       "    </tr>\n",
       "  </thead>\n",
       "  <tbody>\n",
       "    <tr>\n",
       "      <th>&lt;=50K</th>\n",
       "      <td>36.783738</td>\n",
       "      <td>190340.86517</td>\n",
       "      <td>9.595065</td>\n",
       "      <td>148.752468</td>\n",
       "      <td>53.142921</td>\n",
       "      <td>38.840210</td>\n",
       "    </tr>\n",
       "    <tr>\n",
       "      <th>&gt;50K</th>\n",
       "      <td>44.249841</td>\n",
       "      <td>188005.00000</td>\n",
       "      <td>11.611657</td>\n",
       "      <td>4006.142456</td>\n",
       "      <td>195.001530</td>\n",
       "      <td>45.473026</td>\n",
       "    </tr>\n",
       "  </tbody>\n",
       "</table>\n",
       "</div>"
      ],
      "text/plain": [
       "             age        fnlwgt  education_num  capital_gain  capital_loss  \\\n",
       "label                                                                       \n",
       "<=50K  36.783738  190340.86517       9.595065    148.752468     53.142921   \n",
       ">50K   44.249841  188005.00000      11.611657   4006.142456    195.001530   \n",
       "\n",
       "       hours_week  \n",
       "label              \n",
       "<=50K   38.840210  \n",
       ">50K    45.473026  "
      ]
     },
     "execution_count": 11,
     "metadata": {},
     "output_type": "execute_result"
    }
   ],
   "source": [
    "df_train.groupby(['label']).mean()"
   ]
  },
  {
   "cell_type": "code",
   "execution_count": 12,
   "id": "1173b53e",
   "metadata": {},
   "outputs": [
    {
     "data": {
      "text/plain": [
       "label\n",
       "<=50K    17\n",
       ">50K     19\n",
       "Name: age, dtype: int64"
      ]
     },
     "execution_count": 12,
     "metadata": {},
     "output_type": "execute_result"
    }
   ],
   "source": [
    "df_train.groupby(['label'])['age'].min()\n"
   ]
  },
  {
   "cell_type": "code",
   "execution_count": 13,
   "id": "68f841a9",
   "metadata": {},
   "outputs": [
    {
     "data": {
      "text/plain": [
       "label  marital              \n",
       "<=50K  Divorced                 34095\n",
       "       Married-AF-spouse         2653\n",
       "       Married-civ-spouse       41310\n",
       "       Married-spouse-absent     6849\n",
       "       Never-married            34095\n",
       "       Separated                 7443\n",
       "       Widowed                   6849\n",
       ">50K   Divorced                 99999\n",
       "       Married-AF-spouse         7298\n",
       "       Married-civ-spouse       99999\n",
       "       Married-spouse-absent    99999\n",
       "       Never-married            99999\n",
       "       Separated                99999\n",
       "       Widowed                  99999\n",
       "Name: capital_gain, dtype: int64"
      ]
     },
     "execution_count": 13,
     "metadata": {},
     "output_type": "execute_result"
    }
   ],
   "source": [
    "df_train.groupby(['label', 'marital'])['capital_gain'].max()"
   ]
  },
  {
   "cell_type": "code",
   "execution_count": 25,
   "id": "63a0059a",
   "metadata": {},
   "outputs": [
    {
     "data": {
      "text/html": [
       "<div>\n",
       "<style scoped>\n",
       "    .dataframe tbody tr th:only-of-type {\n",
       "        vertical-align: middle;\n",
       "    }\n",
       "\n",
       "    .dataframe tbody tr th {\n",
       "        vertical-align: top;\n",
       "    }\n",
       "\n",
       "    .dataframe thead th {\n",
       "        text-align: right;\n",
       "    }\n",
       "</style>\n",
       "<table border=\"1\" class=\"dataframe\">\n",
       "  <thead>\n",
       "    <tr style=\"text-align: right;\">\n",
       "      <th>marital</th>\n",
       "      <th>Divorced</th>\n",
       "      <th>Married-AF-spouse</th>\n",
       "      <th>Married-civ-spouse</th>\n",
       "      <th>Married-spouse-absent</th>\n",
       "      <th>Never-married</th>\n",
       "      <th>Separated</th>\n",
       "      <th>Widowed</th>\n",
       "    </tr>\n",
       "    <tr>\n",
       "      <th>label</th>\n",
       "      <th></th>\n",
       "      <th></th>\n",
       "      <th></th>\n",
       "      <th></th>\n",
       "      <th></th>\n",
       "      <th></th>\n",
       "      <th></th>\n",
       "    </tr>\n",
       "  </thead>\n",
       "  <tbody>\n",
       "    <tr>\n",
       "      <th>&lt;=50K</th>\n",
       "      <td>140.544724</td>\n",
       "      <td>204.076923</td>\n",
       "      <td>219.249517</td>\n",
       "      <td>106.559896</td>\n",
       "      <td>99.052492</td>\n",
       "      <td>117.190824</td>\n",
       "      <td>149.811674</td>\n",
       "    </tr>\n",
       "    <tr>\n",
       "      <th>&gt;50K</th>\n",
       "      <td>5781.812095</td>\n",
       "      <td>729.800000</td>\n",
       "      <td>3678.163927</td>\n",
       "      <td>6836.647059</td>\n",
       "      <td>6137.576375</td>\n",
       "      <td>6614.727273</td>\n",
       "      <td>5071.117647</td>\n",
       "    </tr>\n",
       "  </tbody>\n",
       "</table>\n",
       "</div>"
      ],
      "text/plain": [
       "marital     Divorced  Married-AF-spouse  Married-civ-spouse  \\\n",
       "label                                                         \n",
       "<=50K     140.544724         204.076923          219.249517   \n",
       ">50K     5781.812095         729.800000         3678.163927   \n",
       "\n",
       "marital  Married-spouse-absent  Never-married    Separated      Widowed  \n",
       "label                                                                    \n",
       "<=50K               106.559896      99.052492   117.190824   149.811674  \n",
       ">50K               6836.647059    6137.576375  6614.727273  5071.117647  "
      ]
     },
     "execution_count": 25,
     "metadata": {},
     "output_type": "execute_result"
    }
   ],
   "source": [
    "%matplotlib inline\n",
    "df_plot = df_train.groupby(['label', 'marital'])['capital_gain'].mean().unstack()\n",
    "df_plot\n"
   ]
  },
  {
   "cell_type": "code",
   "execution_count": null,
   "id": "69937a82",
   "metadata": {},
   "outputs": [],
   "source": []
  }
 ],
 "metadata": {
  "kernelspec": {
   "display_name": "Python 3",
   "language": "python",
   "name": "python3"
  },
  "language_info": {
   "codemirror_mode": {
    "name": "ipython",
    "version": 3
   },
   "file_extension": ".py",
   "mimetype": "text/x-python",
   "name": "python",
   "nbconvert_exporter": "python",
   "pygments_lexer": "ipython3",
   "version": "3.8.8"
  }
 },
 "nbformat": 4,
 "nbformat_minor": 5
}
