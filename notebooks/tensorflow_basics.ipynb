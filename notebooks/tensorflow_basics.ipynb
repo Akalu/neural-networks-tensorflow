{
 "cells": [
  {
   "cell_type": "code",
   "execution_count": 3,
   "id": "857aeffc",
   "metadata": {},
   "outputs": [],
   "source": [
    "import tensorflow as tf"
   ]
  },
  {
   "cell_type": "code",
   "execution_count": 10,
   "id": "b0778e1c",
   "metadata": {
    "scrolled": false
   },
   "outputs": [
    {
     "name": "stdout",
     "output_type": "stream",
     "text": [
      "tf.Tensor(1, shape=(), dtype=int16)\n",
      "tf.Tensor(1.123, shape=(), dtype=float32)\n",
      "tf.Tensor(b'Plain string object', shape=(), dtype=string)\n"
     ]
    }
   ],
   "source": [
    "# rank 0\n",
    "r0 = tf.constant(1, tf.int16)\n",
    "print(r0)\n",
    "\n",
    "# Decimal\n",
    "r0_decimal = tf.constant(1.123, tf.float32)\n",
    "print(r0_decimal)\n",
    "\n",
    "# String\n",
    "r0_string = tf.constant(\"Plain string object\", tf.string)\n",
    "print(r0_string)"
   ]
  },
  {
   "cell_type": "code",
   "execution_count": 11,
   "id": "a8888f9d",
   "metadata": {},
   "outputs": [
    {
     "name": "stdout",
     "output_type": "stream",
     "text": [
      "tf.Tensor([1 3 5], shape=(3,), dtype=int16)\n",
      "tf.Tensor([ True  True False], shape=(3,), dtype=bool)\n"
     ]
    }
   ],
   "source": [
    "# rank 1\n",
    "\n",
    "r1_vector = tf.constant([1,3,5], tf.int16)\n",
    "print(r1_vector)\n",
    "\n",
    "r1_boolean = tf.constant([True, True, False], tf.bool)\n",
    "print(r1_boolean)"
   ]
  },
  {
   "cell_type": "code",
   "execution_count": 12,
   "id": "e65266f5",
   "metadata": {},
   "outputs": [
    {
     "name": "stdout",
     "output_type": "stream",
     "text": [
      "tf.Tensor(\n",
      "[[1 2]\n",
      " [3 4]], shape=(2, 2), dtype=int16)\n"
     ]
    }
   ],
   "source": [
    "# rank 2\n",
    "\n",
    "r2_matrix = tf.constant([ [1, 2], [3, 4] ],tf.int16)\n",
    "\n",
    "print(r2_matrix)"
   ]
  },
  {
   "cell_type": "code",
   "execution_count": 14,
   "id": "bba7033c",
   "metadata": {},
   "outputs": [
    {
     "name": "stdout",
     "output_type": "stream",
     "text": [
      "tf.Tensor(\n",
      "[[[1 2]\n",
      "  [3 4]\n",
      "  [5 6]]], shape=(1, 3, 2), dtype=int16)\n",
      "(1, 3, 2)\n"
     ]
    }
   ],
   "source": [
    "# rank 3\n",
    "\n",
    "r3_matrix = tf.constant([ [[1, 2], [3, 4], [5, 6]] ], tf.int16)\n",
    "\n",
    "print(r3_matrix)\n",
    "print(r3_matrix.shape)"
   ]
  },
  {
   "cell_type": "code",
   "execution_count": 15,
   "id": "f4af25f7",
   "metadata": {},
   "outputs": [
    {
     "name": "stdout",
     "output_type": "stream",
     "text": [
      "tf.Tensor(3.123, shape=(), dtype=float32)\n",
      "tf.Tensor(3, shape=(), dtype=int32)\n"
     ]
    }
   ],
   "source": [
    "# type casting\n",
    "type_float = tf.constant(3.123, tf.float32)\n",
    "type_int = tf.cast(type_float, dtype=tf.int32)\n",
    "print(type_float)\n",
    "print(type_int)"
   ]
  },
  {
   "cell_type": "code",
   "execution_count": 16,
   "id": "fab63f0e",
   "metadata": {},
   "outputs": [
    {
     "name": "stdout",
     "output_type": "stream",
     "text": [
      "tf.Tensor([[4 6]], shape=(1, 2), dtype=int32)\n"
     ]
    }
   ],
   "source": [
    "# Add\n",
    "tensor_a = tf.constant([[1,2]], dtype = tf.int32)\n",
    "tensor_b = tf.constant([[3, 4]], dtype = tf.int32)\n",
    "tensor_add = tf.add(tensor_a, tensor_b)\n",
    "print(tensor_add)"
   ]
  },
  {
   "cell_type": "code",
   "execution_count": 17,
   "id": "f9240bdc",
   "metadata": {},
   "outputs": [
    {
     "name": "stdout",
     "output_type": "stream",
     "text": [
      "tf.Tensor([[3 8]], shape=(1, 2), dtype=int32)\n"
     ]
    }
   ],
   "source": [
    "# Multiply\n",
    "tensor_multiply = tf.multiply(tensor_a, tensor_b)\n",
    "print(tensor_multiply)"
   ]
  },
  {
   "cell_type": "code",
   "execution_count": 26,
   "id": "4c6a9bf2",
   "metadata": {},
   "outputs": [
    {
     "name": "stdout",
     "output_type": "stream",
     "text": [
      "[8]\n"
     ]
    }
   ],
   "source": [
    "# Working with session in old way\n",
    "tf.compat.v1.disable_eager_execution()\n",
    "\n",
    "## Create, run and evaluate a session\n",
    "x = tf.constant([2])\n",
    "y = tf.constant([4])\n",
    "\n",
    "## Create operator\n",
    "multiply = tf.multiply(x, y)\n",
    "\n",
    "## Create a session to run the code\n",
    "with tf.compat.v1.Session() as sess:\n",
    "    result_1 = sess.run(multiply)\n",
    "    print(result_1)\n",
    "sess.close()"
   ]
  },
  {
   "cell_type": "code",
   "execution_count": 27,
   "id": "b12d5065",
   "metadata": {},
   "outputs": [
    {
     "name": "stdout",
     "output_type": "stream",
     "text": [
      "[8]\n"
     ]
    }
   ],
   "source": [
    "# Working with session in old way\n",
    "## Create, run and evaluate a session\n",
    "x = tf.constant([2])\n",
    "y = tf.constant([4])\n",
    "\n",
    "## Create operator\n",
    "multiply = tf.multiply(x, y)\n",
    "\n",
    "print(result_1)\n"
   ]
  },
  {
   "cell_type": "code",
   "execution_count": null,
   "id": "bc9af875",
   "metadata": {},
   "outputs": [],
   "source": []
  }
 ],
 "metadata": {
  "kernelspec": {
   "display_name": "Python 3",
   "language": "python",
   "name": "python3"
  },
  "language_info": {
   "codemirror_mode": {
    "name": "ipython",
    "version": 3
   },
   "file_extension": ".py",
   "mimetype": "text/x-python",
   "name": "python",
   "nbconvert_exporter": "python",
   "pygments_lexer": "ipython3",
   "version": "3.8.8"
  }
 },
 "nbformat": 4,
 "nbformat_minor": 5
}
