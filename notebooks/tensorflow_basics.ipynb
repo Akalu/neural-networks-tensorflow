{
 "cells": [
  {
   "cell_type": "code",
   "execution_count": 3,
   "id": "532de09f",
   "metadata": {},
   "outputs": [],
   "source": [
    "import tensorflow as tf"
   ]
  },
  {
   "cell_type": "code",
   "execution_count": 10,
   "id": "88a15338",
   "metadata": {
    "scrolled": false
   },
   "outputs": [
    {
     "name": "stdout",
     "output_type": "stream",
     "text": [
      "tf.Tensor(1, shape=(), dtype=int16)\n",
      "tf.Tensor(1.123, shape=(), dtype=float32)\n",
      "tf.Tensor(b'Plain string object', shape=(), dtype=string)\n"
     ]
    }
   ],
   "source": [
    "# rank 0\n",
    "r0 = tf.constant(1, tf.int16)\n",
    "print(r0)\n",
    "\n",
    "# Decimal\n",
    "r0_decimal = tf.constant(1.123, tf.float32)\n",
    "print(r0_decimal)\n",
    "\n",
    "# String\n",
    "r0_string = tf.constant(\"Plain string object\", tf.string)\n",
    "print(r0_string)"
   ]
  },
  {
   "cell_type": "code",
   "execution_count": 11,
   "id": "7c0e932c",
   "metadata": {},
   "outputs": [
    {
     "name": "stdout",
     "output_type": "stream",
     "text": [
      "tf.Tensor([1 3 5], shape=(3,), dtype=int16)\n",
      "tf.Tensor([ True  True False], shape=(3,), dtype=bool)\n"
     ]
    }
   ],
   "source": [
    "# rank 1\n",
    "\n",
    "r1_vector = tf.constant([1,3,5], tf.int16)\n",
    "print(r1_vector)\n",
    "\n",
    "r1_boolean = tf.constant([True, True, False], tf.bool)\n",
    "print(r1_boolean)"
   ]
  },
  {
   "cell_type": "code",
   "execution_count": 12,
   "id": "5cbc8635",
   "metadata": {},
   "outputs": [
    {
     "name": "stdout",
     "output_type": "stream",
     "text": [
      "tf.Tensor(\n",
      "[[1 2]\n",
      " [3 4]], shape=(2, 2), dtype=int16)\n"
     ]
    }
   ],
   "source": [
    "# rank 2\n",
    "\n",
    "r2_matrix = tf.constant([ [1, 2], [3, 4] ],tf.int16)\n",
    "\n",
    "print(r2_matrix)"
   ]
  },
  {
   "cell_type": "code",
   "execution_count": 13,
   "id": "3c647d42",
   "metadata": {},
   "outputs": [
    {
     "name": "stdout",
     "output_type": "stream",
     "text": [
      "tf.Tensor(\n",
      "[[[1 2]\n",
      "  [3 4]\n",
      "  [5 6]]], shape=(1, 3, 2), dtype=int16)\n"
     ]
    }
   ],
   "source": [
    "# rank 3\n",
    "\n",
    "r3_matrix = tf.constant([ [[1, 2], [3, 4], [5, 6]] ], tf.int16)\n",
    "\n",
    "print(r3_matrix)"
   ]
  },
  {
   "cell_type": "code",
   "execution_count": null,
   "id": "bce2da52",
   "metadata": {},
   "outputs": [],
   "source": []
  }
 ],
 "metadata": {
  "kernelspec": {
   "display_name": "Python 3",
   "language": "python",
   "name": "python3"
  },
  "language_info": {
   "codemirror_mode": {
    "name": "ipython",
    "version": 3
   },
   "file_extension": ".py",
   "mimetype": "text/x-python",
   "name": "python",
   "nbconvert_exporter": "python",
   "pygments_lexer": "ipython3",
   "version": "3.8.8"
  }
 },
 "nbformat": 4,
 "nbformat_minor": 5
}
