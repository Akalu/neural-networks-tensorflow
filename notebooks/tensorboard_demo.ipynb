{
 "cells": [
  {
   "cell_type": "code",
   "execution_count": 1,
   "id": "38f99ee4",
   "metadata": {},
   "outputs": [],
   "source": [
    "import tensorflow as tf\n",
    "import numpy as np"
   ]
  },
  {
   "cell_type": "code",
   "execution_count": 2,
   "id": "db71730b",
   "metadata": {},
   "outputs": [
    {
     "data": {
      "text/plain": [
       "(10000, 5)"
      ]
     },
     "execution_count": 2,
     "metadata": {},
     "output_type": "execute_result"
    }
   ],
   "source": [
    "X_train = (np.random.sample((10000,5)))\n",
    "y_train = (np.random.sample((10000,1)))\n",
    "X_train.shape"
   ]
  },
  {
   "cell_type": "code",
   "execution_count": 6,
   "id": "ca0ee75c",
   "metadata": {},
   "outputs": [
    {
     "name": "stdout",
     "output_type": "stream",
     "text": [
      "INFO:tensorflow:Using default config.\n",
      "INFO:tensorflow:Using config: {'_model_dir': 'train/linregression', '_tf_random_seed': None, '_save_summary_steps': 100, '_save_checkpoints_steps': None, '_save_checkpoints_secs': 600, '_session_config': allow_soft_placement: true\n",
      "graph_options {\n",
      "  rewrite_options {\n",
      "    meta_optimizer_iterations: ONE\n",
      "  }\n",
      "}\n",
      ", '_keep_checkpoint_max': 5, '_keep_checkpoint_every_n_hours': 10000, '_log_step_count_steps': 100, '_train_distribute': None, '_device_fn': None, '_protocol': None, '_eval_distribute': None, '_experimental_distribute': None, '_experimental_max_worker_delay_secs': None, '_session_creation_timeout_secs': 7200, '_checkpoint_save_graph_def': True, '_service': None, '_cluster_spec': ClusterSpec({}), '_task_type': 'worker', '_task_id': 0, '_global_id_in_cluster': 0, '_master': '', '_evaluation_master': '', '_is_chief': True, '_num_ps_replicas': 0, '_num_worker_replicas': 1}\n"
     ]
    }
   ],
   "source": [
    "DNN_reg = tf.estimator.DNNRegressor(\n",
    "    feature_columns = feature_columns,\n",
    "    model_dir = 'train/linregression',\n",
    "    hidden_units = [500, 300],\n",
    "    optimizer = tf.keras.optimizers.Adagrad(learning_rate=0.1)\n",
    ")\n"
   ]
  },
  {
   "cell_type": "code",
   "execution_count": 9,
   "id": "292fe4bb",
   "metadata": {},
   "outputs": [
    {
     "name": "stdout",
     "output_type": "stream",
     "text": [
      "WARNING:tensorflow:From c:\\ProgramData\\anaconda3\\envs\\test-tf\\lib\\site-packages\\tensorflow\\python\\util\\lazy_loader.py:63: The name tf.estimator.inputs is deprecated. Please use tf.compat.v1.estimator.inputs instead.\n",
      "\n",
      "WARNING:tensorflow:From c:\\ProgramData\\anaconda3\\envs\\test-tf\\lib\\site-packages\\tensorflow\\python\\training\\training_util.py:235: Variable.initialized_value (from tensorflow.python.ops.variables) is deprecated and will be removed in a future version.\n",
      "Instructions for updating:\n",
      "Use Variable.read_value. Variables in 2.X are initialized automatically both in eager and graph (inside tf.defun) contexts.\n",
      "WARNING:tensorflow:From c:\\ProgramData\\anaconda3\\envs\\test-tf\\lib\\site-packages\\tensorflow_estimator\\python\\estimator\\inputs\\queues\\feeding_queue_runner.py:60: QueueRunner.__init__ (from tensorflow.python.training.queue_runner_impl) is deprecated and will be removed in a future version.\n",
      "Instructions for updating:\n",
      "To construct input pipelines, use the `tf.data` module.\n",
      "WARNING:tensorflow:From c:\\ProgramData\\anaconda3\\envs\\test-tf\\lib\\site-packages\\tensorflow_estimator\\python\\estimator\\inputs\\queues\\feeding_functions.py:491: add_queue_runner (from tensorflow.python.training.queue_runner_impl) is deprecated and will be removed in a future version.\n",
      "Instructions for updating:\n",
      "To construct input pipelines, use the `tf.data` module.\n",
      "INFO:tensorflow:Calling model_fn.\n",
      "WARNING:tensorflow:From c:\\ProgramData\\anaconda3\\envs\\test-tf\\lib\\site-packages\\tensorflow\\python\\keras\\optimizer_v2\\adagrad.py:82: calling Constant.__init__ (from tensorflow.python.ops.init_ops) with dtype is deprecated and will be removed in a future version.\n",
      "Instructions for updating:\n",
      "Call initializer instance with the dtype argument instead of passing it to the constructor\n",
      "INFO:tensorflow:Done calling model_fn.\n",
      "INFO:tensorflow:Create CheckpointSaverHook.\n",
      "INFO:tensorflow:Graph was finalized.\n",
      "INFO:tensorflow:Running local_init_op.\n",
      "INFO:tensorflow:Done running local_init_op.\n",
      "WARNING:tensorflow:From c:\\ProgramData\\anaconda3\\envs\\test-tf\\lib\\site-packages\\tensorflow\\python\\training\\monitored_session.py:906: start_queue_runners (from tensorflow.python.training.queue_runner_impl) is deprecated and will be removed in a future version.\n",
      "Instructions for updating:\n",
      "To construct input pipelines, use the `tf.data` module.\n",
      "INFO:tensorflow:Calling checkpoint listeners before saving checkpoint 0...\n",
      "INFO:tensorflow:Saving checkpoints for 0 into train/linregression\\model.ckpt.\n",
      "INFO:tensorflow:Calling checkpoint listeners after saving checkpoint 0...\n",
      "INFO:tensorflow:loss = 0.2527665, step = 0\n",
      "INFO:tensorflow:global_step/sec: 445.78\n",
      "INFO:tensorflow:loss = 0.08404389, step = 100 (0.224 sec)\n",
      "INFO:tensorflow:global_step/sec: 462.122\n",
      "INFO:tensorflow:loss = 0.08330022, step = 200 (0.216 sec)\n",
      "INFO:tensorflow:global_step/sec: 461.781\n",
      "INFO:tensorflow:loss = 0.08277848, step = 300 (0.217 sec)\n",
      "INFO:tensorflow:global_step/sec: 461.744\n",
      "INFO:tensorflow:loss = 0.077104524, step = 400 (0.217 sec)\n",
      "INFO:tensorflow:global_step/sec: 497.538\n",
      "INFO:tensorflow:loss = 0.08757693, step = 500 (0.217 sec)\n",
      "INFO:tensorflow:global_step/sec: 463.71\n",
      "INFO:tensorflow:loss = 0.07706407, step = 600 (0.200 sec)\n",
      "INFO:tensorflow:global_step/sec: 495.818\n",
      "INFO:tensorflow:loss = 0.09553421, step = 700 (0.217 sec)\n",
      "INFO:tensorflow:global_step/sec: 465.073\n",
      "INFO:tensorflow:loss = 0.08860533, step = 800 (0.199 sec)\n",
      "INFO:tensorflow:global_step/sec: 489.52\n",
      "INFO:tensorflow:loss = 0.0892168, step = 900 (0.204 sec)\n",
      "INFO:tensorflow:global_step/sec: 505.232\n",
      "INFO:tensorflow:loss = 0.087265074, step = 1000 (0.214 sec)\n",
      "INFO:tensorflow:global_step/sec: 464.434\n",
      "INFO:tensorflow:loss = 0.09226857, step = 1100 (0.200 sec)\n",
      "INFO:tensorflow:global_step/sec: 511.695\n",
      "INFO:tensorflow:loss = 0.06950049, step = 1200 (0.195 sec)\n",
      "INFO:tensorflow:global_step/sec: 485.795\n",
      "INFO:tensorflow:loss = 0.07587476, step = 1300 (0.206 sec)\n",
      "INFO:tensorflow:global_step/sec: 503.346\n",
      "INFO:tensorflow:loss = 0.08282089, step = 1400 (0.199 sec)\n",
      "INFO:tensorflow:global_step/sec: 499.838\n",
      "INFO:tensorflow:loss = 0.0993091, step = 1500 (0.200 sec)\n",
      "INFO:tensorflow:global_step/sec: 500.156\n",
      "INFO:tensorflow:loss = 0.08993004, step = 1600 (0.200 sec)\n",
      "INFO:tensorflow:global_step/sec: 500.093\n",
      "INFO:tensorflow:loss = 0.083670095, step = 1700 (0.200 sec)\n",
      "INFO:tensorflow:global_step/sec: 497.833\n",
      "INFO:tensorflow:loss = 0.09273121, step = 1800 (0.216 sec)\n",
      "INFO:tensorflow:global_step/sec: 463.849\n",
      "INFO:tensorflow:loss = 0.077840894, step = 1900 (0.200 sec)\n",
      "INFO:tensorflow:global_step/sec: 495.002\n",
      "INFO:tensorflow:loss = 0.088950835, step = 2000 (0.204 sec)\n",
      "INFO:tensorflow:global_step/sec: 495.049\n",
      "INFO:tensorflow:loss = 0.077535175, step = 2100 (0.202 sec)\n",
      "INFO:tensorflow:global_step/sec: 497.513\n",
      "INFO:tensorflow:loss = 0.07449497, step = 2200 (0.201 sec)\n",
      "INFO:tensorflow:global_step/sec: 492.611\n",
      "INFO:tensorflow:loss = 0.0874944, step = 2300 (0.205 sec)\n",
      "INFO:tensorflow:global_step/sec: 487.803\n",
      "INFO:tensorflow:loss = 0.09301844, step = 2400 (0.203 sec)\n",
      "INFO:tensorflow:global_step/sec: 521.137\n",
      "INFO:tensorflow:loss = 0.08466108, step = 2500 (0.190 sec)\n",
      "INFO:tensorflow:global_step/sec: 510.021\n",
      "INFO:tensorflow:loss = 0.08182225, step = 2600 (0.212 sec)\n",
      "INFO:tensorflow:global_step/sec: 488.333\n",
      "INFO:tensorflow:loss = 0.08311247, step = 2700 (0.189 sec)\n",
      "INFO:tensorflow:global_step/sec: 474.416\n",
      "INFO:tensorflow:loss = 0.08251776, step = 2800 (0.211 sec)\n",
      "INFO:tensorflow:global_step/sec: 489.418\n",
      "INFO:tensorflow:loss = 0.07674177, step = 2900 (0.204 sec)\n",
      "INFO:tensorflow:Calling checkpoint listeners before saving checkpoint 3000...\n",
      "INFO:tensorflow:Saving checkpoints for 3000 into train/linregression\\model.ckpt.\n",
      "INFO:tensorflow:Calling checkpoint listeners after saving checkpoint 3000...\n",
      "INFO:tensorflow:Loss for final step: 0.084644794.\n"
     ]
    },
    {
     "data": {
      "text/plain": [
       "<tensorflow_estimator.python.estimator.canned.dnn.DNNRegressorV2 at 0x15038c6acd0>"
      ]
     },
     "execution_count": 9,
     "metadata": {},
     "output_type": "execute_result"
    }
   ],
   "source": [
    "train_input = tf.compat.v1.estimator.inputs.numpy_input_fn(\n",
    "    x={\"x\": X_train},\n",
    "    y=y_train,\n",
    "    shuffle=False,\n",
    "    num_epochs=None)\n",
    "DNN_reg.train(train_input,steps=3000)"
   ]
  },
  {
   "cell_type": "code",
   "execution_count": null,
   "id": "438bbe41",
   "metadata": {},
   "outputs": [],
   "source": []
  }
 ],
 "metadata": {
  "kernelspec": {
   "display_name": "Python 3",
   "language": "python",
   "name": "python3"
  },
  "language_info": {
   "codemirror_mode": {
    "name": "ipython",
    "version": 3
   },
   "file_extension": ".py",
   "mimetype": "text/x-python",
   "name": "python",
   "nbconvert_exporter": "python",
   "pygments_lexer": "ipython3",
   "version": "3.8.8"
  }
 },
 "nbformat": 4,
 "nbformat_minor": 5
}
