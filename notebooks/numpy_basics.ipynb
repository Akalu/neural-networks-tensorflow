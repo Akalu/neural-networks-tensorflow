{
 "cells": [
  {
   "cell_type": "code",
   "execution_count": 8,
   "id": "3d52fac9",
   "metadata": {},
   "outputs": [
    {
     "data": {
      "text/plain": [
       "array([1, 9, 8, 3])"
      ]
     },
     "execution_count": 8,
     "metadata": {},
     "output_type": "execute_result"
    }
   ],
   "source": [
    "import numpy as np\n",
    "##  Create array\n",
    "### list\n",
    "myPythonList = [1,9,8,3]\n",
    "numpy_array_from_list = np.array(myPythonList)\n",
    "### Directly in numpy\n",
    "np.array([1,9,8,3])\n"
   ]
  },
  {
   "cell_type": "code",
   "execution_count": 10,
   "id": "11ff3551",
   "metadata": {},
   "outputs": [
    {
     "name": "stdout",
     "output_type": "stream",
     "text": [
      "(3,)\n",
      "int32\n",
      "2d Array [[1 2 3]\n",
      " [4 5 6]]\n",
      "3d Array [[[ 1  2  3]\n",
      "  [ 4  5  6]]\n",
      "\n",
      " [[ 7  8  9]\n",
      "  [10 11 12]]]\n"
     ]
    }
   ],
   "source": [
    "\n",
    "### Shape\n",
    "a = np.array([1,2,3])\n",
    "print(a.shape)\n",
    "### Type\n",
    "print(a.dtype)\n",
    "### 2D array\n",
    "c = np.array([(1,2,3),\n",
    "(4,5,6)])\n",
    "print(\"2d Array\",c)\n",
    "### 3D array\n",
    "d = np.array([[[1, 2,3],[4, 5, 6]],[[7, 8,9],[10, 11, 12]]])\n",
    "print(\"3d Array\",d)"
   ]
  },
  {
   "cell_type": "code",
   "execution_count": 12,
   "id": "bad086b2",
   "metadata": {},
   "outputs": [
    {
     "name": "stdout",
     "output_type": "stream",
     "text": [
      "[[1 2 3]\n",
      " [4 5 6]]\n",
      "After Reshape [[1 2 3]\n",
      " [4 5 6]]\n",
      "After Flatten [[1 2 3]\n",
      " [4 5 6]]\n",
      "Horizontal Append: [1 2 3 4 5 6]\n",
      "Vertical Append: [[1 2 3]\n",
      " [4 5 6]]\n",
      "Random Number [5.46603423 6.09608871 5.40211228 4.86074807 5.70775981 4.32978783\n",
      " 4.83320231 4.63792483 5.27159752 4.6732155 ]\n",
      "Asrray [[1. 1. 1. 1.]\n",
      " [1. 1. 1. 1.]\n",
      " [1. 1. 1. 1.]\n",
      " [1. 1. 1. 1.]]\n",
      "Arrange [ 1  2  3  4  5  6  7  8  9 10]\n",
      "Linspace [1.         1.44444444 1.88888889 2.33333333 2.77777778 3.22222222\n",
      " 3.66666667 4.11111111 4.55555556 5.        ]\n",
      "Logspace [ 1000.          2154.43469003  4641.58883361 10000.        ]\n",
      "[1 2 3]\n",
      "[2 5]\n",
      "[4 5]\n"
     ]
    }
   ],
   "source": [
    "### Reshape\n",
    "e = np.array([(1,2,3), (4,5,6)])\n",
    "print(e)\n",
    "e.reshape(3,2)\n",
    "print(\"After Reshape\",e)\n",
    "### Flatten\n",
    "e.flatten()\n",
    "print(\"After Flatten\",e)\n",
    "### hstack & vstack\n",
    "f = np.array([1,2,3])\n",
    "g = np.array([4,5,6])\n",
    "print('Horizontal Append:', np.hstack((f, g)))\n",
    "print('Vertical Append:', np.vstack((f, g)))\n",
    "### random number\n",
    "normal_array = np.random.normal(5, 0.5, 10)\n",
    "print(\"Random Number\",normal_array)\n",
    "### asarray\n",
    "A = np.matrix(np.ones((4,4)))\n",
    "np.asarray(A)\n",
    "print(\"Asrray\", A)\n",
    "### Arrange\n",
    "print(\"Arrange\",np.arange(1, 11))\n",
    "### linspace\n",
    "lin = np.linspace(1.0, 5.0, num=10)\n",
    "print(\"Linspace\", lin)\n",
    "### logspace\n",
    "log1 = np.logspace(3.0, 4.0, num=4)\n",
    "print(\"Logspace\", log1)\n",
    "### Slicing\n",
    "#### rows\n",
    "e = np.array([(1,2,3), (4,5,6)])\n",
    "print(e[0])\n",
    "#### columns\n",
    "print(e[:,1])\n",
    "#### rows and columns\n",
    "print(e[1, :2])"
   ]
  },
  {
   "cell_type": "code",
   "execution_count": null,
   "id": "83bb79ff",
   "metadata": {},
   "outputs": [],
   "source": []
  }
 ],
 "metadata": {
  "kernelspec": {
   "display_name": "Python 3",
   "language": "python",
   "name": "python3"
  },
  "language_info": {
   "codemirror_mode": {
    "name": "ipython",
    "version": 3
   },
   "file_extension": ".py",
   "mimetype": "text/x-python",
   "name": "python",
   "nbconvert_exporter": "python",
   "pygments_lexer": "ipython3",
   "version": "3.8.8"
  }
 },
 "nbformat": 4,
 "nbformat_minor": 5
}
