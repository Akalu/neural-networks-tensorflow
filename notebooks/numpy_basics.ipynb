{
 "cells": [
  {
   "cell_type": "code",
   "execution_count": 8,
   "id": "8b80a07d",
   "metadata": {},
   "outputs": [
    {
     "data": {
      "text/plain": [
       "array([1, 9, 8, 3])"
      ]
     },
     "execution_count": 8,
     "metadata": {},
     "output_type": "execute_result"
    }
   ],
   "source": [
    "import numpy as np\n",
    "##  Create array\n",
    "### list\n",
    "myPythonList = [1,9,8,3]\n",
    "numpy_array_from_list = np.array(myPythonList)\n",
    "### Directly in numpy\n",
    "np.array([1,9,8,3])\n"
   ]
  },
  {
   "cell_type": "code",
   "execution_count": 9,
   "id": "ccccf23e",
   "metadata": {},
   "outputs": [
    {
     "name": "stdout",
     "output_type": "stream",
     "text": [
      "(3,)\n",
      "int32\n",
      "2d Array [[1 2 3]\n",
      " [4 5 6]]\n"
     ]
    }
   ],
   "source": [
    "\n",
    "### Shape\n",
    "a = np.array([1,2,3])\n",
    "print(a.shape)\n",
    "### Type\n",
    "print(a.dtype)\n",
    "### 2D array\n",
    "c = np.array([(1,2,3),\n",
    "(4,5,6)])\n",
    "print(\"2d Array\",c)\n",
    "### 3D array\n",
    "d = np.array([[[1, 2,3],[4, 5, 6]],[[7, 8,9],[10, 11, 12]]])"
   ]
  },
  {
   "cell_type": "code",
   "execution_count": null,
   "id": "9514a4d5",
   "metadata": {},
   "outputs": [],
   "source": []
  }
 ],
 "metadata": {
  "kernelspec": {
   "display_name": "Python 3",
   "language": "python",
   "name": "python3"
  },
  "language_info": {
   "codemirror_mode": {
    "name": "ipython",
    "version": 3
   },
   "file_extension": ".py",
   "mimetype": "text/x-python",
   "name": "python",
   "nbconvert_exporter": "python",
   "pygments_lexer": "ipython3",
   "version": "3.8.8"
  }
 },
 "nbformat": 4,
 "nbformat_minor": 5
}
